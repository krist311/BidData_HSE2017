{
 "cells": [
  {
   "cell_type": "code",
   "execution_count": 6,
   "metadata": {},
   "outputs": [
    {
     "data": {
      "text/plain": [
       "[Row(id=0),\n",
       " Row(id=1),\n",
       " Row(id=2),\n",
       " Row(id=3),\n",
       " Row(id=4),\n",
       " Row(id=5),\n",
       " Row(id=6),\n",
       " Row(id=7),\n",
       " Row(id=8),\n",
       " Row(id=9)]"
      ]
     },
     "execution_count": 6,
     "metadata": {},
     "output_type": "execute_result"
    }
   ],
   "source": [
    "import findspark\n",
    "import pyspark\n",
    "findspark.init('C:\\spark\\spark\\spark-2.2.0-bin-hadoop2.7')\n",
    "session = pyspark.sql.SparkSession.builder.getOrCreate()\n",
    "\n",
    "session.range(10).collect()"
   ]
  },
  {
   "cell_type": "code",
   "execution_count": 31,
   "metadata": {},
   "outputs": [],
   "source": [
    "books=session.read.format(\"csv\").option(\"header\", \"true\").option(\"inferscheme\", \"true\").option(\"sep\", \";\").load(\"BX-Books.csv\")\n",
    "users=session.read.format(\"csv\").option(\"header\", \"true\").option(\"inferscheme\", \"true\").option(\"sep\", \";\").load(\"BX-Users.csv\")\n",
    "ratings=session.read.format(\"csv\").option(\"header\", \"true\").option(\"inferscheme\", \"true\").option(\"sep\", \";\").load(\"BX-Book-Ratings.csv\")"
   ]
  },
  {
   "cell_type": "code",
   "execution_count": 32,
   "metadata": {},
   "outputs": [
    {
     "name": "stdout",
     "output_type": "stream",
     "text": [
      "+-------+----------+-----------+\n",
      "|User-ID|      ISBN|Book-Rating|\n",
      "+-------+----------+-----------+\n",
      "| 276725|034545104X|          0|\n",
      "| 276726|0155061224|          5|\n",
      "| 276727|0446520802|          0|\n",
      "| 276729|052165615X|          3|\n",
      "| 276729|0521795028|          6|\n",
      "| 276733|2080674722|          0|\n",
      "| 276736|3257224281|          8|\n",
      "| 276737|0600570967|          6|\n",
      "| 276744|038550120X|          7|\n",
      "| 276745| 342310538|         10|\n",
      "| 276746|0425115801|          0|\n",
      "| 276746|0449006522|          0|\n",
      "| 276746|0553561618|          0|\n",
      "| 276746|055356451X|          0|\n",
      "| 276746|0786013990|          0|\n",
      "| 276746|0786014512|          0|\n",
      "| 276747|0060517794|          9|\n",
      "| 276747|0451192001|          0|\n",
      "| 276747|0609801279|          0|\n",
      "| 276747|0671537458|          9|\n",
      "+-------+----------+-----------+\n",
      "only showing top 20 rows\n",
      "\n"
     ]
    }
   ],
   "source": [
    "#books.show()\n",
    "books.schema\n",
    "ratings.show()"
   ]
  },
  {
   "cell_type": "code",
   "execution_count": 45,
   "metadata": {},
   "outputs": [
    {
     "name": "stdout",
     "output_type": "stream",
     "text": [
      "   Book-Rating   count\n",
      "0            7   76457\n",
      "1            3    5996\n",
      "2            8  103736\n",
      "3            0  716109\n",
      "4            5   50974\n",
      "5            6   36924\n",
      "6            9   67541\n",
      "7            1    1770\n",
      "8           10   78610\n",
      "9            4    8904\n",
      "10           2    2759\n"
     ]
    }
   ],
   "source": [
    "p_ratings=ratings.groupBy(\"Book-Rating\").count().toPandas()\n",
    "print(p_ratings)"
   ]
  },
  {
   "cell_type": "code",
   "execution_count": 48,
   "metadata": {},
   "outputs": [
    {
     "data": {
      "image/png": "[encoded data removed]",
      "text/plain": [
       "<matplotlib.figure.Figure at 0xb8cbe085c0>"
      ]
     },
     "metadata": {},
     "output_type": "display_data"
    }
   ],
   "source": [
    "import pandas as pd\n",
    "import numpy as np\n",
    "import matplotlib.pyplot as plt\n",
    "plt.rc(\"font\", size=15)\n",
    "p_ratings.plot(kind='bar')\n",
    "plt.title('Rating Distribution\\n')\n",
    "plt.xlabel('Rating')\n",
    "plt.ylabel('Count')\n",
    "plt.savefig('system1.png', bbox_inches='tight')\n",
    "plt.show()"
   ]
  },
  {
   "cell_type": "code",
   "execution_count": 49,
   "metadata": {},
   "outputs": [
    {
     "name": "stdout",
     "output_type": "stream",
     "text": [
      "+-------+--------------------+----+\n",
      "|User-ID|            Location| Age|\n",
      "+-------+--------------------+----+\n",
      "|      1|  nyc, new york, usa|NULL|\n",
      "|      2|stockton, califor...|  18|\n",
      "|      3|moscow, yukon ter...|NULL|\n",
      "|      4|porto, v.n.gaia, ...|  17|\n",
      "|      5|farnborough, hant...|NULL|\n",
      "|      6|santa monica, cal...|  61|\n",
      "|      7| washington, dc, usa|NULL|\n",
      "|      8|timmins, ontario,...|NULL|\n",
      "|      9|germantown, tenne...|NULL|\n",
      "|     10|albacete, wiscons...|  26|\n",
      "|     11|melbourne, victor...|  14|\n",
      "|     12|fort bragg, calif...|NULL|\n",
      "|     13|barcelona, barcel...|  26|\n",
      "|     14|mediapolis, iowa,...|NULL|\n",
      "|     15|calgary, alberta,...|NULL|\n",
      "|     16|albuquerque, new ...|NULL|\n",
      "|     17|chesapeake, virgi...|NULL|\n",
      "|     18|rio de janeiro, r...|  25|\n",
      "|     19|           weston, ,|  14|\n",
      "|     20|langhorne, pennsy...|  19|\n",
      "+-------+--------------------+----+\n",
      "only showing top 20 rows\n",
      "\n"
     ]
    }
   ],
   "source": [
    "users.show()"
   ]
  },
  {
   "cell_type": "code",
   "execution_count": 57,
   "metadata": {},
   "outputs": [
    {
     "name": "stdout",
     "output_type": "stream",
     "text": [
      "      Age   count\n",
      "0      51    2203\n",
      "1       7      27\n",
      "2     124       5\n",
      "3      54    2140\n",
      "4      15    2383\n",
      "5     132       1\n",
      "6     200       2\n",
      "7      11     121\n",
      "8     101       7\n",
      "9     138       1\n",
      "10     29    5293\n",
      "11     69     373\n",
      "12     42    2758\n",
      "13     73     200\n",
      "14     87       6\n",
      "15     64     680\n",
      "16      3      45\n",
      "17     30    4778\n",
      "18    113       2\n",
      "19     34    4656\n",
      "20    133       2\n",
      "21     59    1205\n",
      "22    162       1\n",
      "23    146       1\n",
      "24      8      54\n",
      "25     28    5347\n",
      "26     22    4714\n",
      "27    199       2\n",
      "28     85      17\n",
      "29     35    4194\n",
      "..    ...     ...\n",
      "137    65     593\n",
      "138     4      28\n",
      "139    39    3234\n",
      "140   210       3\n",
      "141    62     882\n",
      "142    12     192\n",
      "143    83      24\n",
      "144   123       8\n",
      "145   109       1\n",
      "146    13     885\n",
      "147   157       1\n",
      "148    14    1962\n",
      "149    21    4438\n",
      "150    66     545\n",
      "151    91      13\n",
      "152    94       5\n",
      "153   175       1\n",
      "154    72     223\n",
      "155    74     170\n",
      "156   137       1\n",
      "157   151       2\n",
      "158    76     114\n",
      "159     2     105\n",
      "160  NULL  110761\n",
      "161    80      48\n",
      "162   226       1\n",
      "163    50    2340\n",
      "164    57    1878\n",
      "165    45    2518\n",
      "166   119       1\n",
      "\n",
      "[167 rows x 2 columns]\n"
     ]
    }
   ],
   "source": [
    "p_ages=users.groupBy(\"Age\").count().toPandas()\n",
    "print(p_ages)"
   ]
  },
  {
   "cell_type": "code",
   "execution_count": 59,
   "metadata": {},
   "outputs": [
    {
     "data": {
      "image/png": "[encoded data removed]",
      "text/plain": [
       "<matplotlib.figure.Figure at 0xb8cde82f98>"
      ]
     },
     "metadata": {},
     "output_type": "display_data"
    }
   ],
   "source": [
    "#users.Age.hist(bins=[0, 10, 20, 30, 40, 50, 100])\n",
    "p_ages.plot(kind='bar')\n",
    "plt.title('Age Distribution\\n')\n",
    "plt.xlabel('Age')\n",
    "plt.ylabel('count')\n",
    "plt.savefig('system2.png', bbox_inches='tight')\n",
    "plt.show()"
   ]
  }
 ],
 "metadata": {
  "kernelspec": {
   "display_name": "Python 3",
   "language": "python",
   "name": "python3"
  },
  "language_info": {
   "codemirror_mode": {
    "name": "ipython",
    "version": 3
   },
   "file_extension": ".py",
   "mimetype": "text/x-python",
   "name": "python",
   "nbconvert_exporter": "python",
   "pygments_lexer": "ipython3",
   "version": "3.6.2"
  }
 },
 "nbformat": 4,
 "nbformat_minor": 2
}
